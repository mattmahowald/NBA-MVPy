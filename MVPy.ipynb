{
 "cells": [
  {
   "cell_type": "code",
   "execution_count": 1,
   "metadata": {},
   "outputs": [],
   "source": [
    "import re"
   ]
  },
  {
   "cell_type": "code",
   "execution_count": 76,
   "metadata": {},
   "outputs": [],
   "source": [
    "class NBAData(object):\n",
    "    def __init__(self):\n",
    "        self.path = 'data/'\n",
    "        \n",
    "    def get_processed_data(self, dataset='train'):\n",
    "        data = []\n",
    "        with open('{}{}'.format(self.path, dataset), 'r') as f:\n",
    "            for line in f.readlines():\n",
    "                line = line.strip()\n",
    "                idx = line.rfind(',')\n",
    "                data.append((line[1:idx-1], int(line[idx+1:])))\n",
    "        return data\n",
    "    \n",
    "    def get_data(self):\n",
    "        with open('data/tweets.txt', 'r') as f:\n",
    "            data = [entry.strip() for entry in f.readlines()]\n",
    "            return data\n",
    "    \n",
    "    def process_data(self, process_data):\n",
    "        pos_emoji_pattern = r'(:-?(?:\\)+|D+))|((?:\\(+)-?:<?)|(<3+)'\n",
    "        neg_emoji_pattern = r'(>?:-?(?:\\(+))|((?:D+|\\)+)-?:<?)'\n",
    "        data = []\n",
    "        for entry in process_data:\n",
    "            entry = re.sub(r'https?:\\/\\/.*[\\r\\n]*', '', entry, flags=re.MULTILINE)\n",
    "            sentiment = 0\n",
    "            if re.findall(pos_emoji_pattern, entry):\n",
    "                sentiment += 1\n",
    "                entry = re.sub(pos_emoji_pattern, '', entry)\n",
    "            if re.findall(neg_emoji_pattern, entry):\n",
    "                sentiment -= 1\n",
    "                entry = re.sub(neg_emoji_pattern, '', entry)\n",
    "            data.append((entry, sentiment))\n",
    "        return data\n",
    "            \n",
    "    def analyze_sentiment(self, data):\n",
    "        correct = 0\n",
    "        attempts = 0\n",
    "        incorrect = [('tweet', 'exp_sentiment', 'sentiment')]\n",
    "        for line in data:\n",
    "            print(line)\n",
    "            tweet, sentiment = line\n",
    "            exp_sentiment = self.get_tweet_sentiment_baseline(tweet)\n",
    "            if exp_sentiment == sentiment:\n",
    "                correct += 1\n",
    "            else:\n",
    "                incorrect.append((tweet, exp_sentiment, sentiment))\n",
    "            attempts += 1\n",
    "        print ('{}% successful: {} correct, {} attempts'.format(correct*100//attempts, correct, attempts))\n",
    "        return incorrect\n",
    "            \n",
    "    def get_tweet_sentiment_baseline(self, tweet):\n",
    "        from textblob import TextBlob\n",
    "        analysis = TextBlob(self.clean_tweet(tweet))\n",
    "        # set sentiment\n",
    "        if analysis.sentiment.polarity > 0:\n",
    "            return 1\n",
    "        elif analysis.sentiment.polarity < 0:\n",
    "            return -1\n",
    "        else:\n",
    "            return 0\n",
    "        \n",
    "    def clean_tweet(self, tweet):\n",
    "        return ' '.join(re.sub(\"(@[A-Za-z0-9]+)|([^0-9A-Za-z \\t])|(\\w+:\\/\\/\\S+)\", \" \", tweet).split())\n",
    "    "
   ]
  },
  {
   "cell_type": "code",
   "execution_count": 77,
   "metadata": {
    "scrolled": true
   },
   "outputs": [
    {
     "name": "stdout",
     "output_type": "stream",
     "text": [
      "('A special victory indeed. Well done, #TeamIndia! Super achievement @chetrisunil11 on your 100th appearance and the 2 goals  #INDvKEN', 1)\n",
      "('A special victory indeed. Well done, #TeamIndia! Super achievement @chetrisunil11 on your 100th appearance and the 2 goals  #INDvKEN', 1)\n",
      "('A special victory indeed. Well done, #TeamIndia! Super achievement @chetrisunil11 on your 100th appearance and the 2 goals  #INDvKEN', 1)\n",
      "('A special victory indeed. Well done, #TeamIndia! Super achievement @chetrisunil11 on your 100th appearance and the 2 goals  #INDvKEN', 1)\n",
      "('A special victory indeed. Well done, #TeamIndia! Super achievement @chetrisunil11 on your 100th appearance and the 2 goals  #INDvKEN', 1)\n",
      "('A special victory indeed. Well done, #TeamIndia! Super achievement @chetrisunil11 on your 100th appearance and the 2 goals  #INDvKEN', 1)\n",
      "(\"i'm going to school sad, confused and scared  brb\", -1)\n",
      "(\"i'm going to school sad, confused and scared  brb\", -1)\n",
      "(\"i'm going to school sad, confused and scared  brb\", -1)\n",
      "(\"i'm going to school sad, confused and scared  brb\", -1)\n",
      "(\"i'm going to school sad, confused and scared  brb\", -1)\n",
      "100% successful: 11 correct, 11 attempts\n",
      "[('tweet', 'exp_sentiment', 'sentiment')]\n"
     ]
    }
   ],
   "source": [
    "model = NBAData()\n",
    "\n",
    "data = model.get_data()\n",
    "\n",
    "train_data = model.process_data(data)\n",
    "\n",
    "print(model.analyze_sentiment(train_data))"
   ]
  },
  {
   "cell_type": "code",
   "execution_count": null,
   "metadata": {},
   "outputs": [],
   "source": []
  }
 ],
 "metadata": {
  "kernelspec": {
   "display_name": "Python 3",
   "language": "python",
   "name": "python3"
  },
  "language_info": {
   "codemirror_mode": {
    "name": "ipython",
    "version": 3
   },
   "file_extension": ".py",
   "mimetype": "text/x-python",
   "name": "python",
   "nbconvert_exporter": "python",
   "pygments_lexer": "ipython3",
   "version": "3.6.4"
  }
 },
 "nbformat": 4,
 "nbformat_minor": 2
}
